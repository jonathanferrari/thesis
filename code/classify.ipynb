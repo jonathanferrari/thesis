{
 "cells": [
  {
   "cell_type": "code",
   "execution_count": 1,
   "metadata": {},
   "outputs": [],
   "source": [
    "from vivit import run_experiment, test_files, classes\n",
    "from data import get_video_label, VideoDataGenerator, labels_df, files, labels\n",
    "from synthetic import *\n",
    "import scipy.stats as stats\n",
    "from sklearn.model_selection import train_test_split"
   ]
  },
  {
   "cell_type": "code",
   "execution_count": 2,
   "metadata": {},
   "outputs": [],
   "source": [
    "classes = list(labels_df.groupby('label').size().sort_values(ascending=False)[:10].index)\n",
    "test_files = [f for f in files if labels[int(os.path.basename(f).split('.')[0])] in classes]"
   ]
  },
  {
   "cell_type": "code",
   "execution_count": 3,
   "metadata": {},
   "outputs": [],
   "source": [
    "base = \"../data/videos\"\n",
    "all_files = test_files\n",
    "for folder in [\"rotated\", \"flipped\", \"noised\", \"high_noised\"]:\n",
    "    all_files += [f\"{base}/{folder}/{file}\" for file in os.listdir(f\"{base}/{folder}\")]\n",
    "y = [get_video_label(file) for file in all_files]\n",
    "\n",
    "train_files, val_files, y_train, y_test = train_test_split(test_files, y, test_size=0.2, stratify=y, random_state=42)\n",
    "train, validation = VideoDataGenerator(train_files), VideoDataGenerator(val_files)\n",
    "full = VideoDataGenerator(all_files)"
   ]
  },
  {
   "cell_type": "code",
   "execution_count": 5,
   "metadata": {},
   "outputs": [
    {
     "name": "stdout",
     "output_type": "stream",
     "text": [
      "Epoch 1/60\n"
     ]
    },
    {
     "name": "stderr",
     "output_type": "stream",
     "text": [
      "2024-04-14 01:49:57.793204: I tensorflow/core/grappler/optimizers/custom_graph_optimizer_registry.cc:117] Plugin optimizer for device_type GPU is enabled.\n"
     ]
    },
    {
     "name": "stdout",
     "output_type": "stream",
     "text": [
      "\u001b[1m35/35\u001b[0m \u001b[32m━━━━━━━━━━━━━━━━━━━━\u001b[0m\u001b[37m\u001b[0m \u001b[1m93s\u001b[0m 2s/step - accuracy: 0.0853 - loss: 5.0747 - top-5-accuracy: 0.4351 - val_accuracy: 0.1429 - val_loss: 2.3292 - val_top-5-accuracy: 0.5393\n",
      "Epoch 2/60\n",
      "\u001b[1m35/35\u001b[0m \u001b[32m━━━━━━━━━━━━━━━━━━━━\u001b[0m\u001b[37m\u001b[0m \u001b[1m60s\u001b[0m 2s/step - accuracy: 0.1598 - loss: 2.3070 - top-5-accuracy: 0.5590 - val_accuracy: 0.1786 - val_loss: 2.2611 - val_top-5-accuracy: 0.5964\n",
      "Epoch 3/60\n",
      "\u001b[1m35/35\u001b[0m \u001b[32m━━━━━━━━━━━━━━━━━━━━\u001b[0m\u001b[37m\u001b[0m \u001b[1m57s\u001b[0m 2s/step - accuracy: 0.1645 - loss: 2.2568 - top-5-accuracy: 0.6259 - val_accuracy: 0.1643 - val_loss: 2.2505 - val_top-5-accuracy: 0.5893\n",
      "Epoch 4/60\n",
      "\u001b[1m35/35\u001b[0m \u001b[32m━━━━━━━━━━━━━━━━━━━━\u001b[0m\u001b[37m\u001b[0m \u001b[1m51s\u001b[0m 1s/step - accuracy: 0.1822 - loss: 2.2373 - top-5-accuracy: 0.6269 - val_accuracy: 0.2000 - val_loss: 2.2219 - val_top-5-accuracy: 0.6179\n",
      "Epoch 5/60\n",
      "\u001b[1m35/35\u001b[0m \u001b[32m━━━━━━━━━━━━━━━━━━━━\u001b[0m\u001b[37m\u001b[0m \u001b[1m51s\u001b[0m 1s/step - accuracy: 0.1790 - loss: 2.2250 - top-5-accuracy: 0.6360 - val_accuracy: 0.1964 - val_loss: 2.2031 - val_top-5-accuracy: 0.6214\n",
      "Epoch 6/60\n",
      "\u001b[1m35/35\u001b[0m \u001b[32m━━━━━━━━━━━━━━━━━━━━\u001b[0m\u001b[37m\u001b[0m \u001b[1m47s\u001b[0m 1s/step - accuracy: 0.1842 - loss: 2.1984 - top-5-accuracy: 0.6628 - val_accuracy: 0.1964 - val_loss: 2.1782 - val_top-5-accuracy: 0.6571\n",
      "Epoch 7/60\n",
      "\u001b[1m35/35\u001b[0m \u001b[32m━━━━━━━━━━━━━━━━━━━━\u001b[0m\u001b[37m\u001b[0m \u001b[1m47s\u001b[0m 1s/step - accuracy: 0.2197 - loss: 2.1571 - top-5-accuracy: 0.7004 - val_accuracy: 0.1714 - val_loss: 2.2003 - val_top-5-accuracy: 0.6321\n",
      "Epoch 8/60\n",
      "\u001b[1m35/35\u001b[0m \u001b[32m━━━━━━━━━━━━━━━━━━━━\u001b[0m\u001b[37m\u001b[0m \u001b[1m50s\u001b[0m 1s/step - accuracy: 0.2214 - loss: 2.1384 - top-5-accuracy: 0.6958 - val_accuracy: 0.1786 - val_loss: 2.1864 - val_top-5-accuracy: 0.6929\n",
      "Epoch 9/60\n",
      "\u001b[1m35/35\u001b[0m \u001b[32m━━━━━━━━━━━━━━━━━━━━\u001b[0m\u001b[37m\u001b[0m \u001b[1m52s\u001b[0m 1s/step - accuracy: 0.2203 - loss: 2.1370 - top-5-accuracy: 0.7046 - val_accuracy: 0.2143 - val_loss: 2.1510 - val_top-5-accuracy: 0.7179\n",
      "Epoch 10/60\n",
      "\u001b[1m35/35\u001b[0m \u001b[32m━━━━━━━━━━━━━━━━━━━━\u001b[0m\u001b[37m\u001b[0m \u001b[1m62s\u001b[0m 2s/step - accuracy: 0.2426 - loss: 2.0471 - top-5-accuracy: 0.7415 - val_accuracy: 0.2036 - val_loss: 2.1386 - val_top-5-accuracy: 0.6964\n",
      "Epoch 11/60\n",
      "\u001b[1m35/35\u001b[0m \u001b[32m━━━━━━━━━━━━━━━━━━━━\u001b[0m\u001b[37m\u001b[0m \u001b[1m61s\u001b[0m 2s/step - accuracy: 0.2368 - loss: 2.0590 - top-5-accuracy: 0.7366 - val_accuracy: 0.1893 - val_loss: 2.1487 - val_top-5-accuracy: 0.7000\n",
      "Epoch 12/60\n",
      "\u001b[1m35/35\u001b[0m \u001b[32m━━━━━━━━━━━━━━━━━━━━\u001b[0m\u001b[37m\u001b[0m \u001b[1m61s\u001b[0m 2s/step - accuracy: 0.2698 - loss: 1.9941 - top-5-accuracy: 0.7568 - val_accuracy: 0.2179 - val_loss: 2.1186 - val_top-5-accuracy: 0.7107\n",
      "Epoch 13/60\n",
      "\u001b[1m35/35\u001b[0m \u001b[32m━━━━━━━━━━━━━━━━━━━━\u001b[0m\u001b[37m\u001b[0m \u001b[1m54s\u001b[0m 1s/step - accuracy: 0.2830 - loss: 1.9676 - top-5-accuracy: 0.7790 - val_accuracy: 0.2000 - val_loss: 2.1309 - val_top-5-accuracy: 0.6750\n",
      "Epoch 14/60\n",
      "\u001b[1m35/35\u001b[0m \u001b[32m━━━━━━━━━━━━━━━━━━━━\u001b[0m\u001b[37m\u001b[0m \u001b[1m60s\u001b[0m 2s/step - accuracy: 0.2456 - loss: 2.0010 - top-5-accuracy: 0.7694 - val_accuracy: 0.2214 - val_loss: 2.0621 - val_top-5-accuracy: 0.7464\n",
      "Epoch 15/60\n",
      "\u001b[1m35/35\u001b[0m \u001b[32m━━━━━━━━━━━━━━━━━━━━\u001b[0m\u001b[37m\u001b[0m \u001b[1m59s\u001b[0m 2s/step - accuracy: 0.2637 - loss: 1.9666 - top-5-accuracy: 0.7831 - val_accuracy: 0.2464 - val_loss: 2.0725 - val_top-5-accuracy: 0.7107\n",
      "Epoch 16/60\n",
      "\u001b[1m35/35\u001b[0m \u001b[32m━━━━━━━━━━━━━━━━━━━━\u001b[0m\u001b[37m\u001b[0m \u001b[1m66s\u001b[0m 2s/step - accuracy: 0.2807 - loss: 1.9488 - top-5-accuracy: 0.8063 - val_accuracy: 0.2214 - val_loss: 2.1081 - val_top-5-accuracy: 0.7071\n",
      "Epoch 17/60\n",
      "\u001b[1m35/35\u001b[0m \u001b[32m━━━━━━━━━━━━━━━━━━━━\u001b[0m\u001b[37m\u001b[0m \u001b[1m66s\u001b[0m 2s/step - accuracy: 0.2971 - loss: 1.9503 - top-5-accuracy: 0.7617 - val_accuracy: 0.2929 - val_loss: 2.0603 - val_top-5-accuracy: 0.7464\n",
      "Epoch 18/60\n",
      "\u001b[1m35/35\u001b[0m \u001b[32m━━━━━━━━━━━━━━━━━━━━\u001b[0m\u001b[37m\u001b[0m \u001b[1m56s\u001b[0m 2s/step - accuracy: 0.3104 - loss: 1.9479 - top-5-accuracy: 0.7814 - val_accuracy: 0.2214 - val_loss: 2.0647 - val_top-5-accuracy: 0.7036\n",
      "Epoch 19/60\n",
      "\u001b[1m35/35\u001b[0m \u001b[32m━━━━━━━━━━━━━━━━━━━━\u001b[0m\u001b[37m\u001b[0m \u001b[1m57s\u001b[0m 2s/step - accuracy: 0.3058 - loss: 1.8997 - top-5-accuracy: 0.7796 - val_accuracy: 0.2821 - val_loss: 2.0311 - val_top-5-accuracy: 0.7214\n",
      "Epoch 20/60\n",
      "\u001b[1m35/35\u001b[0m \u001b[32m━━━━━━━━━━━━━━━━━━━━\u001b[0m\u001b[37m\u001b[0m \u001b[1m61s\u001b[0m 2s/step - accuracy: 0.3020 - loss: 1.8951 - top-5-accuracy: 0.7864 - val_accuracy: 0.2714 - val_loss: 2.0787 - val_top-5-accuracy: 0.7143\n",
      "Epoch 21/60\n",
      "\u001b[1m35/35\u001b[0m \u001b[32m━━━━━━━━━━━━━━━━━━━━\u001b[0m\u001b[37m\u001b[0m \u001b[1m62s\u001b[0m 2s/step - accuracy: 0.3293 - loss: 1.9074 - top-5-accuracy: 0.7808 - val_accuracy: 0.2393 - val_loss: 2.0485 - val_top-5-accuracy: 0.7536\n",
      "Epoch 22/60\n",
      "\u001b[1m35/35\u001b[0m \u001b[32m━━━━━━━━━━━━━━━━━━━━\u001b[0m\u001b[37m\u001b[0m \u001b[1m63s\u001b[0m 2s/step - accuracy: 0.3209 - loss: 1.8825 - top-5-accuracy: 0.7942 - val_accuracy: 0.2643 - val_loss: 2.0602 - val_top-5-accuracy: 0.7536\n",
      "Epoch 23/60\n",
      "\u001b[1m35/35\u001b[0m \u001b[32m━━━━━━━━━━━━━━━━━━━━\u001b[0m\u001b[37m\u001b[0m \u001b[1m43s\u001b[0m 1s/step - accuracy: 0.3102 - loss: 1.8560 - top-5-accuracy: 0.8272 - val_accuracy: 0.2571 - val_loss: 2.0881 - val_top-5-accuracy: 0.7107\n",
      "Epoch 24/60\n",
      "\u001b[1m35/35\u001b[0m \u001b[32m━━━━━━━━━━━━━━━━━━━━\u001b[0m\u001b[37m\u001b[0m \u001b[1m40s\u001b[0m 1s/step - accuracy: 0.3107 - loss: 1.8800 - top-5-accuracy: 0.7955 - val_accuracy: 0.2000 - val_loss: 2.1952 - val_top-5-accuracy: 0.6964\n",
      "Epoch 25/60\n",
      "\u001b[1m35/35\u001b[0m \u001b[32m━━━━━━━━━━━━━━━━━━━━\u001b[0m\u001b[37m\u001b[0m \u001b[1m42s\u001b[0m 1s/step - accuracy: 0.2559 - loss: 2.2881 - top-5-accuracy: 0.6960 - val_accuracy: 0.1893 - val_loss: 2.2431 - val_top-5-accuracy: 0.6464\n",
      "Epoch 26/60\n",
      "\u001b[1m35/35\u001b[0m \u001b[32m━━━━━━━━━━━━━━━━━━━━\u001b[0m\u001b[37m\u001b[0m \u001b[1m43s\u001b[0m 1s/step - accuracy: 0.2161 - loss: 2.1888 - top-5-accuracy: 0.6733 - val_accuracy: 0.2250 - val_loss: 2.1692 - val_top-5-accuracy: 0.6821\n",
      "Epoch 27/60\n",
      "\u001b[1m35/35\u001b[0m \u001b[32m━━━━━━━━━━━━━━━━━━━━\u001b[0m\u001b[37m\u001b[0m \u001b[1m42s\u001b[0m 1s/step - accuracy: 0.2239 - loss: 2.0948 - top-5-accuracy: 0.6972 - val_accuracy: 0.2536 - val_loss: 2.1153 - val_top-5-accuracy: 0.7107\n",
      "Epoch 28/60\n",
      "\u001b[1m35/35\u001b[0m \u001b[32m━━━━━━━━━━━━━━━━━━━━\u001b[0m\u001b[37m\u001b[0m \u001b[1m42s\u001b[0m 1s/step - accuracy: 0.2401 - loss: 2.0686 - top-5-accuracy: 0.7175 - val_accuracy: 0.2429 - val_loss: 2.0741 - val_top-5-accuracy: 0.7286\n",
      "Epoch 29/60\n",
      "\u001b[1m35/35\u001b[0m \u001b[32m━━━━━━━━━━━━━━━━━━━━\u001b[0m\u001b[37m\u001b[0m \u001b[1m41s\u001b[0m 1s/step - accuracy: 0.2875 - loss: 1.9984 - top-5-accuracy: 0.7653 - val_accuracy: 0.2357 - val_loss: 2.0776 - val_top-5-accuracy: 0.7536\n",
      "Epoch 30/60\n",
      "\u001b[1m35/35\u001b[0m \u001b[32m━━━━━━━━━━━━━━━━━━━━\u001b[0m\u001b[37m\u001b[0m \u001b[1m47s\u001b[0m 1s/step - accuracy: 0.2761 - loss: 1.9428 - top-5-accuracy: 0.8078 - val_accuracy: 0.2643 - val_loss: 2.0477 - val_top-5-accuracy: 0.7607\n",
      "Epoch 31/60\n",
      "\u001b[1m35/35\u001b[0m \u001b[32m━━━━━━━━━━━━━━━━━━━━\u001b[0m\u001b[37m\u001b[0m \u001b[1m56s\u001b[0m 2s/step - accuracy: 0.2768 - loss: 1.9103 - top-5-accuracy: 0.8072 - val_accuracy: 0.3179 - val_loss: 2.0648 - val_top-5-accuracy: 0.7500\n",
      "Epoch 32/60\n",
      "\u001b[1m35/35\u001b[0m \u001b[32m━━━━━━━━━━━━━━━━━━━━\u001b[0m\u001b[37m\u001b[0m \u001b[1m50s\u001b[0m 1s/step - accuracy: 0.2892 - loss: 1.9405 - top-5-accuracy: 0.7920 - val_accuracy: 0.2750 - val_loss: 2.0522 - val_top-5-accuracy: 0.7286\n",
      "Epoch 33/60\n",
      "\u001b[1m35/35\u001b[0m \u001b[32m━━━━━━━━━━━━━━━━━━━━\u001b[0m\u001b[37m\u001b[0m \u001b[1m54s\u001b[0m 1s/step - accuracy: 0.3237 - loss: 1.8675 - top-5-accuracy: 0.8258 - val_accuracy: 0.2643 - val_loss: 2.0409 - val_top-5-accuracy: 0.7500\n",
      "Epoch 34/60\n",
      "\u001b[1m35/35\u001b[0m \u001b[32m━━━━━━━━━━━━━━━━━━━━\u001b[0m\u001b[37m\u001b[0m \u001b[1m52s\u001b[0m 1s/step - accuracy: 0.3153 - loss: 1.8703 - top-5-accuracy: 0.8086 - val_accuracy: 0.2571 - val_loss: 2.0417 - val_top-5-accuracy: 0.7500\n",
      "Epoch 35/60\n",
      "\u001b[1m35/35\u001b[0m \u001b[32m━━━━━━━━━━━━━━━━━━━━\u001b[0m\u001b[37m\u001b[0m \u001b[1m48s\u001b[0m 1s/step - accuracy: 0.3003 - loss: 1.8806 - top-5-accuracy: 0.8218 - val_accuracy: 0.2643 - val_loss: 2.1092 - val_top-5-accuracy: 0.6929\n",
      "Epoch 36/60\n",
      "\u001b[1m35/35\u001b[0m \u001b[32m━━━━━━━━━━━━━━━━━━━━\u001b[0m\u001b[37m\u001b[0m \u001b[1m49s\u001b[0m 1s/step - accuracy: 0.3430 - loss: 1.8571 - top-5-accuracy: 0.8183 - val_accuracy: 0.2536 - val_loss: 2.0057 - val_top-5-accuracy: 0.7607\n",
      "Epoch 37/60\n",
      "\u001b[1m35/35\u001b[0m \u001b[32m━━━━━━━━━━━━━━━━━━━━\u001b[0m\u001b[37m\u001b[0m \u001b[1m51s\u001b[0m 1s/step - accuracy: 0.3358 - loss: 1.8123 - top-5-accuracy: 0.8094 - val_accuracy: 0.3286 - val_loss: 1.9832 - val_top-5-accuracy: 0.7500\n",
      "Epoch 38/60\n",
      "\u001b[1m35/35\u001b[0m \u001b[32m━━━━━━━━━━━━━━━━━━━━\u001b[0m\u001b[37m\u001b[0m \u001b[1m56s\u001b[0m 2s/step - accuracy: 0.3515 - loss: 1.7684 - top-5-accuracy: 0.8264 - val_accuracy: 0.3250 - val_loss: 2.0371 - val_top-5-accuracy: 0.7250\n",
      "Epoch 39/60\n",
      "\u001b[1m35/35\u001b[0m \u001b[32m━━━━━━━━━━━━━━━━━━━━\u001b[0m\u001b[37m\u001b[0m \u001b[1m50s\u001b[0m 1s/step - accuracy: 0.3609 - loss: 1.7796 - top-5-accuracy: 0.8337 - val_accuracy: 0.2857 - val_loss: 2.0103 - val_top-5-accuracy: 0.7500\n",
      "Epoch 40/60\n",
      "\u001b[1m35/35\u001b[0m \u001b[32m━━━━━━━━━━━━━━━━━━━━\u001b[0m\u001b[37m\u001b[0m \u001b[1m59s\u001b[0m 2s/step - accuracy: 0.3533 - loss: 1.7526 - top-5-accuracy: 0.8524 - val_accuracy: 0.2786 - val_loss: 2.0635 - val_top-5-accuracy: 0.7714\n",
      "Epoch 41/60\n",
      "\u001b[1m35/35\u001b[0m \u001b[32m━━━━━━━━━━━━━━━━━━━━\u001b[0m\u001b[37m\u001b[0m \u001b[1m53s\u001b[0m 1s/step - accuracy: 0.3449 - loss: 1.7455 - top-5-accuracy: 0.8562 - val_accuracy: 0.3357 - val_loss: 1.9542 - val_top-5-accuracy: 0.7500\n",
      "Epoch 42/60\n",
      "\u001b[1m35/35\u001b[0m \u001b[32m━━━━━━━━━━━━━━━━━━━━\u001b[0m\u001b[37m\u001b[0m \u001b[1m53s\u001b[0m 1s/step - accuracy: 0.3726 - loss: 1.7205 - top-5-accuracy: 0.8453 - val_accuracy: 0.3179 - val_loss: 2.0182 - val_top-5-accuracy: 0.7429\n",
      "Epoch 43/60\n",
      "\u001b[1m35/35\u001b[0m \u001b[32m━━━━━━━━━━━━━━━━━━━━\u001b[0m\u001b[37m\u001b[0m \u001b[1m53s\u001b[0m 1s/step - accuracy: 0.3968 - loss: 1.7229 - top-5-accuracy: 0.8441 - val_accuracy: 0.3643 - val_loss: 1.9479 - val_top-5-accuracy: 0.7571\n",
      "Epoch 44/60\n",
      "\u001b[1m35/35\u001b[0m \u001b[32m━━━━━━━━━━━━━━━━━━━━\u001b[0m\u001b[37m\u001b[0m \u001b[1m64s\u001b[0m 2s/step - accuracy: 0.4092 - loss: 1.6407 - top-5-accuracy: 0.8688 - val_accuracy: 0.3250 - val_loss: 1.9812 - val_top-5-accuracy: 0.7429\n",
      "Epoch 45/60\n",
      "\u001b[1m35/35\u001b[0m \u001b[32m━━━━━━━━━━━━━━━━━━━━\u001b[0m\u001b[37m\u001b[0m \u001b[1m61s\u001b[0m 2s/step - accuracy: 0.3762 - loss: 1.6796 - top-5-accuracy: 0.8430 - val_accuracy: 0.3143 - val_loss: 1.9199 - val_top-5-accuracy: 0.7679\n",
      "Epoch 46/60\n",
      "\u001b[1m35/35\u001b[0m \u001b[32m━━━━━━━━━━━━━━━━━━━━\u001b[0m\u001b[37m\u001b[0m \u001b[1m41s\u001b[0m 1s/step - accuracy: 0.4234 - loss: 1.6457 - top-5-accuracy: 0.8696 - val_accuracy: 0.3750 - val_loss: 1.9340 - val_top-5-accuracy: 0.7643\n",
      "Epoch 47/60\n",
      "\u001b[1m35/35\u001b[0m \u001b[32m━━━━━━━━━━━━━━━━━━━━\u001b[0m\u001b[37m\u001b[0m \u001b[1m53s\u001b[0m 1s/step - accuracy: 0.4696 - loss: 1.5700 - top-5-accuracy: 0.8782 - val_accuracy: 0.3500 - val_loss: 1.9487 - val_top-5-accuracy: 0.7786\n",
      "Epoch 48/60\n",
      "\u001b[1m35/35\u001b[0m \u001b[32m━━━━━━━━━━━━━━━━━━━━\u001b[0m\u001b[37m\u001b[0m \u001b[1m77s\u001b[0m 2s/step - accuracy: 0.4658 - loss: 1.5542 - top-5-accuracy: 0.8921 - val_accuracy: 0.3607 - val_loss: 1.9329 - val_top-5-accuracy: 0.7643\n",
      "Epoch 49/60\n",
      "\u001b[1m35/35\u001b[0m \u001b[32m━━━━━━━━━━━━━━━━━━━━\u001b[0m\u001b[37m\u001b[0m \u001b[1m52s\u001b[0m 1s/step - accuracy: 0.4741 - loss: 1.5191 - top-5-accuracy: 0.8822 - val_accuracy: 0.3714 - val_loss: 1.9502 - val_top-5-accuracy: 0.7571\n",
      "Epoch 50/60\n",
      "\u001b[1m35/35\u001b[0m \u001b[32m━━━━━━━━━━━━━━━━━━━━\u001b[0m\u001b[37m\u001b[0m \u001b[1m51s\u001b[0m 1s/step - accuracy: 0.4735 - loss: 1.5511 - top-5-accuracy: 0.8732 - val_accuracy: 0.3643 - val_loss: 1.9362 - val_top-5-accuracy: 0.7571\n",
      "Epoch 51/60\n",
      "\u001b[1m35/35\u001b[0m \u001b[32m━━━━━━━━━━━━━━━━━━━━\u001b[0m\u001b[37m\u001b[0m \u001b[1m70s\u001b[0m 2s/step - accuracy: 0.4270 - loss: 1.5939 - top-5-accuracy: 0.8672 - val_accuracy: 0.3250 - val_loss: 2.0039 - val_top-5-accuracy: 0.7679\n",
      "Epoch 52/60\n",
      "\u001b[1m35/35\u001b[0m \u001b[32m━━━━━━━━━━━━━━━━━━━━\u001b[0m\u001b[37m\u001b[0m \u001b[1m64s\u001b[0m 2s/step - accuracy: 0.4531 - loss: 1.5364 - top-5-accuracy: 0.8905 - val_accuracy: 0.3750 - val_loss: 1.9179 - val_top-5-accuracy: 0.7929\n",
      "Epoch 53/60\n",
      "\u001b[1m35/35\u001b[0m \u001b[32m━━━━━━━━━━━━━━━━━━━━\u001b[0m\u001b[37m\u001b[0m \u001b[1m63s\u001b[0m 2s/step - accuracy: 0.4847 - loss: 1.4731 - top-5-accuracy: 0.9093 - val_accuracy: 0.3571 - val_loss: 2.0012 - val_top-5-accuracy: 0.7714\n",
      "Epoch 54/60\n",
      "\u001b[1m35/35\u001b[0m \u001b[32m━━━━━━━━━━━━━━━━━━━━\u001b[0m\u001b[37m\u001b[0m \u001b[1m66s\u001b[0m 2s/step - accuracy: 0.4925 - loss: 1.4740 - top-5-accuracy: 0.8961 - val_accuracy: 0.3679 - val_loss: 2.0753 - val_top-5-accuracy: 0.7679\n",
      "Epoch 55/60\n",
      "\u001b[1m35/35\u001b[0m \u001b[32m━━━━━━━━━━━━━━━━━━━━\u001b[0m\u001b[37m\u001b[0m \u001b[1m73s\u001b[0m 2s/step - accuracy: 0.4734 - loss: 1.5422 - top-5-accuracy: 0.8896 - val_accuracy: 0.3536 - val_loss: 2.0056 - val_top-5-accuracy: 0.7857\n",
      "Epoch 56/60\n",
      "\u001b[1m35/35\u001b[0m \u001b[32m━━━━━━━━━━━━━━━━━━━━\u001b[0m\u001b[37m\u001b[0m \u001b[1m68s\u001b[0m 2s/step - accuracy: 0.4973 - loss: 1.4737 - top-5-accuracy: 0.8873 - val_accuracy: 0.3536 - val_loss: 1.9514 - val_top-5-accuracy: 0.7929\n",
      "Epoch 57/60\n",
      "\u001b[1m35/35\u001b[0m \u001b[32m━━━━━━━━━━━━━━━━━━━━\u001b[0m\u001b[37m\u001b[0m \u001b[1m52s\u001b[0m 1s/step - accuracy: 0.5074 - loss: 1.4427 - top-5-accuracy: 0.9079 - val_accuracy: 0.3464 - val_loss: 1.9160 - val_top-5-accuracy: 0.7964\n",
      "Epoch 58/60\n",
      "\u001b[1m35/35\u001b[0m \u001b[32m━━━━━━━━━━━━━━━━━━━━\u001b[0m\u001b[37m\u001b[0m \u001b[1m70s\u001b[0m 2s/step - accuracy: 0.4933 - loss: 1.4607 - top-5-accuracy: 0.8920 - val_accuracy: 0.3607 - val_loss: 2.0216 - val_top-5-accuracy: 0.8036\n",
      "Epoch 59/60\n",
      "\u001b[1m35/35\u001b[0m \u001b[32m━━━━━━━━━━━━━━━━━━━━\u001b[0m\u001b[37m\u001b[0m \u001b[1m70s\u001b[0m 2s/step - accuracy: 0.5073 - loss: 1.4184 - top-5-accuracy: 0.8950 - val_accuracy: 0.3607 - val_loss: 1.9466 - val_top-5-accuracy: 0.7714\n",
      "Epoch 60/60\n",
      "\u001b[1m35/35\u001b[0m \u001b[32m━━━━━━━━━━━━━━━━━━━━\u001b[0m\u001b[37m\u001b[0m \u001b[1m53s\u001b[0m 1s/step - accuracy: 0.5101 - loss: 1.4549 - top-5-accuracy: 0.9149 - val_accuracy: 0.3643 - val_loss: 1.9818 - val_top-5-accuracy: 0.7679\n",
      "\u001b[1m9/9\u001b[0m \u001b[32m━━━━━━━━━━━━━━━━━━━━\u001b[0m\u001b[37m\u001b[0m \u001b[1m4s\u001b[0m 355ms/step - accuracy: 0.5587 - loss: 1.2284 - top-5-accuracy: 0.9455\n",
      "Accuracy: 50.00%\n",
      "Top 5 Accuracy: 91.79%\n"
     ]
    }
   ],
   "source": [
    "model = run_experiment(data = train, validation = validation, learning_rate=0.001, epochs = 60)"
   ]
  },
  {
   "cell_type": "code",
   "execution_count": 6,
   "metadata": {},
   "outputs": [],
   "source": [
    "model.save(\"model-high-lr.keras\")"
   ]
  }
 ],
 "metadata": {
  "kernelspec": {
   "display_name": "Python 3",
   "language": "python",
   "name": "python3"
  },
  "language_info": {
   "codemirror_mode": {
    "name": "ipython",
    "version": 3
   },
   "file_extension": ".py",
   "mimetype": "text/x-python",
   "name": "python",
   "nbconvert_exporter": "python",
   "pygments_lexer": "ipython3",
   "version": "3.11.2"
  }
 },
 "nbformat": 4,
 "nbformat_minor": 2
}
