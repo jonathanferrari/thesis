{
 "cells": [
  {
   "cell_type": "code",
   "execution_count": 1,
   "metadata": {},
   "outputs": [],
   "source": [
    "from vivit import run_experiment, test_files, classes\n",
    "from data import get_video_label, VideoDataGenerator, labels_df, files, labels\n",
    "import synthetic\n",
    "import scipy.stats as stats\n",
    "from sklearn.model_selection import train_test_split\n",
    "import numpy as np\n",
    "import keras\n",
    "import matplotlib.pyplot as plt\n",
    "import os\n",
    "%matplotlib inline"
   ]
  },
  {
   "cell_type": "code",
   "execution_count": 2,
   "metadata": {},
   "outputs": [],
   "source": [
    "classes = list(labels_df.groupby('label').size().sort_values(ascending=False)[:10].index)\n",
    "good_classes = ['book', \"drink\", \"go\", \"chair\", \"who\", \"clothes\", \"yes\", \"year\", \"thin\", \"fine\"]\n",
    "test_files = [f for f in files if labels[int(os.path.basename(f).split('.')[0])] in good_classes]"
   ]
  },
  {
   "cell_type": "code",
   "execution_count": 3,
   "metadata": {},
   "outputs": [
    {
     "name": "stdout",
     "output_type": "stream",
     "text": [
      "265/265\r"
     ]
    }
   ],
   "source": [
    "base = \"../data/videos\"\n",
    "for video, f in enumerate(test_files):\n",
    "    name = os.path.basename(f)\n",
    "    if not os.path.exists(f\"{base}/flipped/{name}\"):\n",
    "        synthetic.flip_video(f\"{base}/original/{name}\", f\"{base}/flipped/{name}\")\n",
    "    if not os.path.exists(f\"{base}/rotated_90/{name}\"):\n",
    "        synthetic.rotate_video(f\"{base}/original/{name}\", f\"{base}/rotated_90/{name}\", 90)\n",
    "    if not os.path.exists(f\"{base}/rotated_270/{name}\"):\n",
    "        synthetic.rotate_video(f\"{base}/original/{name}\", f\"{base}/rotated_270/{name}\", 270)\n",
    "    if not os.path.exists(f\"{base}/noised/{name}\"):\n",
    "        synthetic.noise_video(f\"{base}/original/{name}\", f\"{base}/noised/{name}\")\n",
    "    print(f\"{video+1}/{len(test_files)}\", end = '\\r')"
   ]
  },
  {
   "cell_type": "code",
   "execution_count": 4,
   "metadata": {},
   "outputs": [],
   "source": [
    "all_files = []\n",
    "for folder in [\"original\", \"flipped\", \"rotated_90\", \"rotated_270\", \"noised\"]:\n",
    "    all_files += [f\"{base}/{folder}/{os.path.basename(f)}\" for f in test_files]\n",
    "y = [get_video_label(f) for f in all_files]"
   ]
  },
  {
   "cell_type": "code",
   "execution_count": 5,
   "metadata": {},
   "outputs": [],
   "source": [
    "X_train, X_test, y_train, y_test = train_test_split(all_files, y, test_size=0.2, random_state=42, stratify=y)\n",
    "train, validation = VideoDataGenerator(X_train), VideoDataGenerator(X_test)"
   ]
  },
  {
   "cell_type": "code",
   "execution_count": null,
   "metadata": {},
   "outputs": [],
   "source": [
    "model = run_experiment(name = \"high-epoch\", data = train, validation = validation, epochs = 250)"
   ]
  },
  {
   "cell_type": "code",
   "execution_count": 9,
   "metadata": {},
   "outputs": [],
   "source": [
    "model.save(\"../models/END-high-epoch.keras\")"
   ]
  },
  {
   "cell_type": "code",
   "execution_count": 16,
   "metadata": {},
   "outputs": [
    {
     "name": "stdout",
     "output_type": "stream",
     "text": [
      "\u001b[1m9/9\u001b[0m \u001b[32m━━━━━━━━━━━━━━━━━━━━\u001b[0m\u001b[37m\u001b[0m \u001b[1m21s\u001b[0m 2s/step - accuracy: 0.7998 - loss: 0.9216 - top-5-accuracy: 0.9692\n"
     ]
    },
    {
     "data": {
      "text/plain": [
       "[0.9110530018806458, 0.7886792421340942, 0.9735848903656006]"
      ]
     },
     "execution_count": 16,
     "metadata": {},
     "output_type": "execute_result"
    }
   ],
   "source": [
    "model = keras.models.load_model(\"../models/high-epoch.keras\")\n",
    "model.evaluate(validation, verbose = 1)"
   ]
  },
  {
   "cell_type": "code",
   "execution_count": null,
   "metadata": {},
   "outputs": [],
   "source": []
  }
 ],
 "metadata": {
  "kernelspec": {
   "display_name": "Python 3",
   "language": "python",
   "name": "python3"
  },
  "language_info": {
   "codemirror_mode": {
    "name": "ipython",
    "version": 3
   },
   "file_extension": ".py",
   "mimetype": "text/x-python",
   "name": "python",
   "nbconvert_exporter": "python",
   "pygments_lexer": "ipython3",
   "version": "3.11.2"
  }
 },
 "nbformat": 4,
 "nbformat_minor": 2
}
