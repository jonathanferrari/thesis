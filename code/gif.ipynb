{
 "cells": [
  {
   "cell_type": "code",
   "execution_count": 2,
   "metadata": {},
   "outputs": [
    {
     "data": {
      "text/plain": [
       "array(['../data/videos/original/67931.mp4',\n",
       "       '../data/videos/original/00631.mp4',\n",
       "       '../data/videos/original/24447.mp4',\n",
       "       '../data/videos/original/70345.mp4',\n",
       "       '../data/videos/original/32285.mp4',\n",
       "       '../data/videos/original/13323.mp4',\n",
       "       '../data/videos/original/12639.mp4',\n",
       "       '../data/videos/original/70289.mp4',\n",
       "       '../data/videos/original/17586.mp4',\n",
       "       '../data/videos/original/25329.mp4'], dtype='<U33')"
      ]
     },
     "execution_count": 2,
     "metadata": {},
     "output_type": "execute_result"
    }
   ],
   "source": [
    "import cv2, data, numpy as np, os, sys, time\n",
    "random_files = np.random.choice(data.files, 10)\n",
    "random_files"
   ]
  },
  {
   "cell_type": "code",
   "execution_count": null,
   "metadata": {},
   "outputs": [],
   "source": []
  }
 ],
 "metadata": {
  "kernelspec": {
   "display_name": "Python 3",
   "language": "python",
   "name": "python3"
  },
  "language_info": {
   "codemirror_mode": {
    "name": "ipython",
    "version": 3
   },
   "file_extension": ".py",
   "mimetype": "text/x-python",
   "name": "python",
   "nbconvert_exporter": "python",
   "pygments_lexer": "ipython3",
   "version": "3.11.2"
  }
 },
 "nbformat": 4,
 "nbformat_minor": 2
}
