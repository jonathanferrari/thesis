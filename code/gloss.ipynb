{
 "cells": [
  {
   "cell_type": "markdown",
   "metadata": {},
   "source": [
    "# Imports"
   ]
  },
  {
   "cell_type": "code",
   "execution_count": 10,
   "metadata": {},
   "outputs": [],
   "source": [
    "import numpy as np, os, json, pandas as pd, matplotlib.pyplot as plt, seaborn as sns\n",
    "from sklearn.model_selection import train_test_split\n",
    "import cv2\n",
    "import scipy.stats as stats\n",
    "%matplotlib inline"
   ]
  },
  {
   "cell_type": "markdown",
   "metadata": {},
   "source": [
    "# Creating Synthetic Data"
   ]
  },
  {
   "cell_type": "code",
   "execution_count": 13,
   "metadata": {},
   "outputs": [],
   "source": []
  },
  {
   "cell_type": "code",
   "execution_count": 2,
   "metadata": {},
   "outputs": [],
   "source": [
    "from synthetic import *"
   ]
  },
  {
   "cell_type": "code",
   "execution_count": 39,
   "metadata": {},
   "outputs": [
    {
     "name": "stdout",
     "output_type": "stream",
     "text": [
      "Processing 1 files\n",
      "../data/videos/noisy/09578.mp4\n",
      "Processed ../data/videos/original/09578.mp4\r"
     ]
    }
   ],
   "source": [
    "input_dir = \"../data/videos/original\"\n",
    "output_dir = \"../data/videos/noisy\"\n",
    "input_files = [np.random.choice([os.path.join(input_dir, f) for f in os.listdir(input_dir) if f.endswith(\".mp4\")])]\n",
    "print(f\"Processing {len(input_files)} files\")\n",
    "for input_file in input_files:\n",
    "    output_file = f\"{output_dir}/{input_file.split('/')[-1]}\"\n",
    "    print(output_file)\n",
    "    noise_video(input_file, output_file, brightness=0.2, noise_amount=0.05)\n",
    "    print(f\"Processed {input_file}\", end=\"\\r\")"
   ]
  },
  {
   "cell_type": "markdown",
   "metadata": {},
   "source": [
    "# Running the Classifier"
   ]
  },
  {
   "cell_type": "code",
   "execution_count": 33,
   "metadata": {},
   "outputs": [
    {
     "data": {
      "text/html": [
       "<video width=\"320\" height=\"240\" controls>\n",
       "  <source src=\"../data/videos/00376.mp4\" type=\"video/mp4\">\n",
       "</video>"
      ],
      "text/plain": [
       "<IPython.core.display.HTML object>"
      ]
     },
     "execution_count": 33,
     "metadata": {},
     "output_type": "execute_result"
    }
   ],
   "source": [
    "import IPython.display as ipd\n",
    "class Vid:\n",
    "    \n",
    "    def __init__(self, video_path):\n",
    "        self.video_path = video_path\n",
    "        self.frames = self.read(video_path)\n",
    "        \n",
    "    def __len__(self):\n",
    "        return len(self.frames)\n",
    "    \n",
    "    def __getitem__(self, idx):\n",
    "        return self.frames[idx]\n",
    "    \n",
    "    def __iter__(self):\n",
    "        for frame in self.frames:\n",
    "            yield frame\n",
    "    \n",
    "    @staticmethod\n",
    "    def read(video_path):\n",
    "        cap = cv2.VideoCapture(video_path)\n",
    "        frames = []\n",
    "        while True:\n",
    "            ret, frame = cap.read()\n",
    "            if not ret:\n",
    "                break\n",
    "            frames.append(frame)\n",
    "        cap.release()\n",
    "        return np.array(frames)\n",
    "\n",
    "    def show(self):\n",
    "        return VideoPlayer(self.video_path)\n",
    "        \n",
    "from IPython.display import HTML\n",
    "\n",
    "HTML(\"\"\"<video width=\"320\" height=\"240\" controls>\n",
    "  <source src=\"../data/videos/00376.mp4\" type=\"video/mp4\">\n",
    "</video>\"\"\")"
   ]
  },
  {
   "cell_type": "code",
   "execution_count": null,
   "metadata": {},
   "outputs": [],
   "source": []
  }
 ],
 "metadata": {
  "kernelspec": {
   "display_name": "Python 3",
   "language": "python",
   "name": "python3"
  },
  "language_info": {
   "codemirror_mode": {
    "name": "ipython",
    "version": 3
   },
   "file_extension": ".py",
   "mimetype": "text/x-python",
   "name": "python",
   "nbconvert_exporter": "python",
   "pygments_lexer": "ipython3",
   "version": "3.11.2"
  }
 },
 "nbformat": 4,
 "nbformat_minor": 2
}
