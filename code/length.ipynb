{
 "cells": [
  {
   "cell_type": "code",
   "execution_count": 1,
   "metadata": {},
   "outputs": [],
   "source": [
    "import pandas as pd, numpy as np, data\n",
    "import imageio\n",
    "from IPython.display import Video"
   ]
  },
  {
   "cell_type": "code",
   "execution_count": 6,
   "metadata": {},
   "outputs": [],
   "source": [
    "import cv2\n",
    "def load_video(file_path, target_frames=20, target_size=(64, 64), original = False):\n",
    "    cap = cv2.VideoCapture(file_path)\n",
    "    frames = []\n",
    "    while True:\n",
    "        ret, frame = cap.read()\n",
    "        if not ret:\n",
    "            break\n",
    "        if not original:\n",
    "            frame = cv2.cvtColor(frame, cv2.COLOR_BGR2GRAY)\n",
    "            frame = cv2.resize(frame, target_size)\n",
    "        frames.append(frame)\n",
    "    cap.release()\n",
    "    \n",
    "    # Convert list of frames to numpy array\n",
    "    video = np.array(frames)\n",
    "    if original:\n",
    "        return video\n",
    "    num_frames = video.shape[0]\n",
    "    if num_frames < target_frames:\n",
    "        pad = np.zeros(target_size)\n",
    "        while video.shape[0] < target_frames:\n",
    "            video = np.concatenate([video, np.expand_dims(pad, axis=0)], axis=0)\n",
    "            if video.shape[0] == target_frames:\n",
    "                break\n",
    "            video = np.concatenate([np.expand_dims(pad, axis=0), video], axis=0)\n",
    "    elif num_frames > target_frames:\n",
    "        frames = np.linspace(0, num_frames, target_frames, endpoint=False).astype(int)\n",
    "        video = video[frames]\n",
    "\n",
    "    # Expand dimensions to have the channel last\n",
    "    video = np.expand_dims(video, axis=-1)\n",
    "    return video"
   ]
  },
  {
   "cell_type": "code",
   "execution_count": 9,
   "metadata": {},
   "outputs": [
    {
     "name": "stdout",
     "output_type": "stream",
     "text": [
      "(20, 64, 64, 1)\n"
     ]
    }
   ],
   "source": [
    "vid = load_video(data.files[46])\n",
    "imageio.mimsave('test.mp4', vid)\n",
    "Video('test.mp4', width=400, height=400)\n",
    "print(vid.shape)"
   ]
  },
  {
   "cell_type": "code",
   "execution_count": 13,
   "metadata": {},
   "outputs": [
    {
     "data": {
      "text/html": [
       "<div>\n",
       "<style scoped>\n",
       "    .dataframe tbody tr th:only-of-type {\n",
       "        vertical-align: middle;\n",
       "    }\n",
       "\n",
       "    .dataframe tbody tr th {\n",
       "        vertical-align: top;\n",
       "    }\n",
       "\n",
       "    .dataframe thead th {\n",
       "        text-align: right;\n",
       "    }\n",
       "</style>\n",
       "<table border=\"1\" class=\"dataframe\">\n",
       "  <thead>\n",
       "    <tr style=\"text-align: right;\">\n",
       "      <th></th>\n",
       "      <th>0</th>\n",
       "    </tr>\n",
       "  </thead>\n",
       "  <tbody>\n",
       "    <tr>\n",
       "      <th>count</th>\n",
       "      <td>2000.000000</td>\n",
       "    </tr>\n",
       "    <tr>\n",
       "      <th>mean</th>\n",
       "      <td>10.541500</td>\n",
       "    </tr>\n",
       "    <tr>\n",
       "      <th>std</th>\n",
       "      <td>3.547192</td>\n",
       "    </tr>\n",
       "    <tr>\n",
       "      <th>min</th>\n",
       "      <td>6.000000</td>\n",
       "    </tr>\n",
       "    <tr>\n",
       "      <th>25%</th>\n",
       "      <td>8.000000</td>\n",
       "    </tr>\n",
       "    <tr>\n",
       "      <th>50%</th>\n",
       "      <td>10.000000</td>\n",
       "    </tr>\n",
       "    <tr>\n",
       "      <th>75%</th>\n",
       "      <td>12.000000</td>\n",
       "    </tr>\n",
       "    <tr>\n",
       "      <th>max</th>\n",
       "      <td>40.000000</td>\n",
       "    </tr>\n",
       "  </tbody>\n",
       "</table>\n",
       "</div>"
      ],
      "text/plain": [
       "                 0\n",
       "count  2000.000000\n",
       "mean     10.541500\n",
       "std       3.547192\n",
       "min       6.000000\n",
       "25%       8.000000\n",
       "50%      10.000000\n",
       "75%      12.000000\n",
       "max      40.000000"
      ]
     },
     "execution_count": 13,
     "metadata": {},
     "output_type": "execute_result"
    }
   ],
   "source": [
    "classes = pd.DataFrame(pd.read_csv('../data/labels.csv').groupby('label').size()).describe()\n",
    "classes"
   ]
  },
  {
   "cell_type": "code",
   "execution_count": null,
   "metadata": {},
   "outputs": [],
   "source": []
  }
 ],
 "metadata": {
  "kernelspec": {
   "display_name": "Python 3",
   "language": "python",
   "name": "python3"
  },
  "language_info": {
   "codemirror_mode": {
    "name": "ipython",
    "version": 3
   },
   "file_extension": ".py",
   "mimetype": "text/x-python",
   "name": "python",
   "nbconvert_exporter": "python",
   "pygments_lexer": "ipython3",
   "version": "3.11.2"
  }
 },
 "nbformat": 4,
 "nbformat_minor": 2
}
