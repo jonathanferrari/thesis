{
 "cells": [
  {
   "cell_type": "code",
   "execution_count": 23,
   "metadata": {},
   "outputs": [],
   "source": [
    "import pandas as pd\n",
    "import time\n",
    "from selenium import webdriver\n",
    "from selenium.webdriver.common.by import By\n",
    "import chromedriver_autoinstaller\n",
    "from selenium import webdriver\n",
    "from selenium.webdriver.support.ui import WebDriverWait\n",
    "from selenium.webdriver.support import expected_conditions as EC\n",
    "from selenium.webdriver.common.by import By\n",
    "from selenium.common.exceptions import TimeoutException\n",
    "# Automatically download and install Chrome Driver\n",
    "chromedriver_autoinstaller.install()\n",
    "\n",
    "# Set up Chrome options\n",
    "chrome_options = webdriver.ChromeOptions()\n",
    "# chrome_options.add_argument('--headless')  # Run Chrome in headless mode (no GUI)\n",
    "# chrome_options.add_argument('--disable-gpu')  # Disable GPU acceleration\n",
    "chrome_options.add_argument('--no-sandbox')  # Disable the sandboxing feature\n",
    "\n",
    "# Initialize the Chrome driver\n",
    "driver = webdriver.Chrome(options=chrome_options)\n",
    "\n",
    "def new_driver(old_driver):\n",
    "    old_driver.close()\n",
    "    old_driver.quit()\n",
    "    return webdriver.Chrome(options=chrome_options)"
   ]
  },
  {
   "cell_type": "code",
   "execution_count": 24,
   "metadata": {},
   "outputs": [],
   "source": [
    "tweets = pd.read_csv(\n",
    "    \"https://media.githubusercontent.com/media/jonathanferrari/tweets/main/data/csv/tweets.csv\", low_memory=False)"
   ]
  },
  {
   "cell_type": "code",
   "execution_count": 31,
   "metadata": {},
   "outputs": [],
   "source": [
    "def get_date_from_url(url, timeout = 5):\n",
    "    driver.get(url)\n",
    "    try:\n",
    "        myElem = WebDriverWait(driver, timeout).until(EC.presence_of_element_located((By.TAG_NAME, 'time')))\n",
    "        return driver.find_element(By.TAG_NAME, \"time\").get_attribute(\"datetime\")\n",
    "    except TimeoutException:\n",
    "        print(\"Loading took too much time!\")\n",
    "        print(\"\\tURL: \" + url)\n",
    "        return None\n",
    "\n",
    "def get_date_from_urls(urls, retries = 3):\n",
    "    dates = []\n",
    "    for url in urls:\n",
    "        retry = 0\n",
    "        date = get_date_from_url(url)\n",
    "        while retry < retries and date is None:\n",
    "            retry += 1\n",
    "            print(f\"Retry {retry} of {retries}\")\n",
    "            driver = new_driver(driver)\n",
    "            date = get_date_from_url(url)\n",
    "        dates.append(date)\n",
    "    return pd.to_datetime(pd.Series(dates))"
   ]
  },
  {
   "cell_type": "code",
   "execution_count": 32,
   "metadata": {},
   "outputs": [
    {
     "name": "stdout",
     "output_type": "stream",
     "text": [
      "Loading took too much time!\n",
      "\tURL: https://twitter.com/mikejwhelan/status/1630260947511025665\n",
      "Retry 1 of 3\n"
     ]
    },
    {
     "ename": "UnboundLocalError",
     "evalue": "local variable 'driver' referenced before assignment",
     "output_type": "error",
     "traceback": [
      "\u001b[0;31m---------------------------------------------------------------------------\u001b[0m",
      "\u001b[0;31mUnboundLocalError\u001b[0m                         Traceback (most recent call last)",
      "\u001b[0;32m/var/folders/3k/k6qjt0ds37g89ylq_8dq2wwh0000gn/T/ipykernel_55818/107953683.py\u001b[0m in \u001b[0;36m<cell line: 2>\u001b[0;34m()\u001b[0m\n\u001b[1;32m      1\u001b[0m \u001b[0murls\u001b[0m \u001b[0;34m=\u001b[0m \u001b[0mtweets\u001b[0m\u001b[0;34m[\u001b[0m\u001b[0;34m\"url\"\u001b[0m\u001b[0;34m]\u001b[0m\u001b[0;34m[\u001b[0m\u001b[0;34m:\u001b[0m\u001b[0;36m500\u001b[0m\u001b[0;34m]\u001b[0m\u001b[0;34m\u001b[0m\u001b[0;34m\u001b[0m\u001b[0m\n\u001b[0;32m----> 2\u001b[0;31m \u001b[0mdates\u001b[0m \u001b[0;34m=\u001b[0m \u001b[0mget_date_from_urls\u001b[0m\u001b[0;34m(\u001b[0m\u001b[0murls\u001b[0m\u001b[0;34m)\u001b[0m\u001b[0;34m\u001b[0m\u001b[0;34m\u001b[0m\u001b[0m\n\u001b[0m\u001b[1;32m      3\u001b[0m \u001b[0mdates\u001b[0m\u001b[0;34m\u001b[0m\u001b[0;34m\u001b[0m\u001b[0m\n",
      "\u001b[0;32m/var/folders/3k/k6qjt0ds37g89ylq_8dq2wwh0000gn/T/ipykernel_55818/3285518158.py\u001b[0m in \u001b[0;36mget_date_from_urls\u001b[0;34m(urls, retries)\u001b[0m\n\u001b[1;32m     17\u001b[0m             \u001b[0mretry\u001b[0m \u001b[0;34m+=\u001b[0m \u001b[0;36m1\u001b[0m\u001b[0;34m\u001b[0m\u001b[0;34m\u001b[0m\u001b[0m\n\u001b[1;32m     18\u001b[0m             \u001b[0mprint\u001b[0m\u001b[0;34m(\u001b[0m\u001b[0;34mf\"Retry {retry} of {retries}\"\u001b[0m\u001b[0;34m)\u001b[0m\u001b[0;34m\u001b[0m\u001b[0;34m\u001b[0m\u001b[0m\n\u001b[0;32m---> 19\u001b[0;31m             \u001b[0mdriver\u001b[0m \u001b[0;34m=\u001b[0m \u001b[0mnew_driver\u001b[0m\u001b[0;34m(\u001b[0m\u001b[0mdriver\u001b[0m\u001b[0;34m)\u001b[0m\u001b[0;34m\u001b[0m\u001b[0;34m\u001b[0m\u001b[0m\n\u001b[0m\u001b[1;32m     20\u001b[0m             \u001b[0mdate\u001b[0m \u001b[0;34m=\u001b[0m \u001b[0mget_date_from_url\u001b[0m\u001b[0;34m(\u001b[0m\u001b[0murl\u001b[0m\u001b[0;34m)\u001b[0m\u001b[0;34m\u001b[0m\u001b[0;34m\u001b[0m\u001b[0m\n\u001b[1;32m     21\u001b[0m         \u001b[0mdates\u001b[0m\u001b[0;34m.\u001b[0m\u001b[0mappend\u001b[0m\u001b[0;34m(\u001b[0m\u001b[0mdate\u001b[0m\u001b[0;34m)\u001b[0m\u001b[0;34m\u001b[0m\u001b[0;34m\u001b[0m\u001b[0m\n",
      "\u001b[0;31mUnboundLocalError\u001b[0m: local variable 'driver' referenced before assignment"
     ]
    }
   ],
   "source": [
    "urls = tweets[\"url\"][:500]\n",
    "dates = get_date_from_urls(urls)\n",
    "dates"
   ]
  }
 ],
 "metadata": {
  "kernelspec": {
   "display_name": "Python 3",
   "language": "python",
   "name": "python3"
  },
  "language_info": {
   "codemirror_mode": {
    "name": "ipython",
    "version": 3
   },
   "file_extension": ".py",
   "mimetype": "text/x-python",
   "name": "python",
   "nbconvert_exporter": "python",
   "pygments_lexer": "ipython3",
   "version": "3.10.1"
  }
 },
 "nbformat": 4,
 "nbformat_minor": 2
}
