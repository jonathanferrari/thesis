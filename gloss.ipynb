{
 "cells": [
  {
   "cell_type": "markdown",
   "metadata": {},
   "source": [
    "# Imports"
   ]
  },
  {
   "cell_type": "code",
   "execution_count": 4,
   "metadata": {},
   "outputs": [],
   "source": [
    "import numpy as np, os, json, pandas as pd, matplotlib.pyplot as plt, seaborn as sns\n",
    "from sklearn.model_selection import train_test_split\n",
    "import cv2\n",
    "%matplotlib inline"
   ]
  },
  {
   "cell_type": "markdown",
   "metadata": {},
   "source": [
    "# Creating Synthetic Data"
   ]
  },
  {
   "cell_type": "code",
   "execution_count": 5,
   "metadata": {},
   "outputs": [],
   "source": [
    "import cv2\n",
    "import numpy as np\n",
    "\n",
    "def rotate_video(input_path, output_path, angle=90):\n",
    "    cap = cv2.VideoCapture(input_path)\n",
    "    fourcc = cv2.VideoWriter_fourcc(*'mp4v')\n",
    "    fps = cap.get(cv2.CAP_PROP_FPS)\n",
    "    width, height = int(cap.get(cv2.CAP_PROP_FRAME_WIDTH)), int(cap.get(cv2.CAP_PROP_FRAME_HEIGHT))\n",
    "    \n",
    "    if angle == 90 or angle == 270:\n",
    "        size = (height, width)\n",
    "    else:\n",
    "        size = (width, height)\n",
    "    \n",
    "    writer = cv2.VideoWriter(output_path, fourcc, fps, size)\n",
    "    \n",
    "    while True:\n",
    "        ret, frame = cap.read()\n",
    "        if not ret:\n",
    "            break\n",
    "        frame = cv2.rotate(frame, cv2.ROTATE_90_CLOCKWISE) if angle == 90 else cv2.rotate(frame, cv2.ROTATE_90_COUNTERCLOCKWISE)\n",
    "        writer.write(frame)\n",
    "    \n",
    "    cap.release()\n",
    "    writer.release()\n",
    "\n",
    "def flip_video(input_path, output_path, flip_code=1):\n",
    "    # flip_code: 0 for vertical, 1 for horizontal, -1 for both axes\n",
    "    cap = cv2.VideoCapture(input_path)\n",
    "    fourcc = cv2.VideoWriter_fourcc(*'mp4v')\n",
    "    fps = cap.get(cv2.CAP_PROP_FPS)\n",
    "    size = (int(cap.get(cv2.CAP_PROP_FRAME_WIDTH)), int(cap.get(cv2.CAP_PROP_FRAME_HEIGHT)))\n",
    "    writer = cv2.VideoWriter(output_path, fourcc, fps, size)\n",
    "    \n",
    "    while True:\n",
    "        ret, frame = cap.read()\n",
    "        if not ret:\n",
    "            break\n",
    "        frame = cv2.flip(frame, flip_code)\n",
    "        writer.write(frame)\n",
    "    \n",
    "    cap.release()\n",
    "    writer.release()\n",
    "\n",
    "def crop_video(input_path, output_path, x, y, w, h):\n",
    "    cap = cv2.VideoCapture(input_path)\n",
    "    fourcc = cv2.VideoWriter_fourcc(*'mp4v')\n",
    "    fps = cap.get(cv2.CAP_PROP_FPS)\n",
    "    size = (w, h)\n",
    "    writer = cv2.VideoWriter(output_path, fourcc, fps, size)\n",
    "    \n",
    "    while True:\n",
    "        ret, frame = cap.read()\n",
    "        if not ret:\n",
    "            break\n",
    "        frame = frame[y:y+h, x:x+w]\n",
    "        writer.write(frame)\n",
    "    \n",
    "    cap.release()\n",
    "    writer.release()\n",
    "\n",
    "def jitter_and_noise_video(input_path, output_path, brightness=0.2, noise_amount=0.04):\n",
    "    cap = cv2.VideoCapture(input_path)\n",
    "    fourcc = cv2.VideoWriter_fourcc(*'mp4v')\n",
    "    fps = cap.get(cv2.CAP_PROP_FPS)\n",
    "    size = (int(cap.get(cv2.CAP_PROP_FRAME_WIDTH)), int(cap.get(cv2.CAP_PROP_FRAME_HEIGHT)))\n",
    "    writer = cv2.VideoWriter(output_path, fourcc, fps, size)\n",
    "    \n",
    "    while True:\n",
    "        ret, frame = cap.read()\n",
    "        if not ret:\n",
    "            break\n",
    "        # Apply brightness jitter\n",
    "        frame = np.clip(frame * (1 + brightness * (np.random.rand() - 0.5)), 0, 255).astype(np.uint8)\n",
    "        # Apply noise\n",
    "        noise = np.random.randn(*frame.shape) * 255 * noise_amount\n",
    "        frame = np.clip(frame + noise, 0, 255).astype(np.uint8)\n",
    "        writer.write(frame)\n",
    "    \n",
    "    cap.release()\n",
    "    writer.release()"
   ]
  },
  {
   "cell_type": "code",
   "execution_count": 6,
   "metadata": {},
   "outputs": [],
   "source": [
    "input_vid = 'videos/00381.mp4'\n",
    "output = 'roatated_test.mp4'\n",
    "rotate_video(input_vid, output, angle=90)"
   ]
  }
 ],
 "metadata": {
  "kernelspec": {
   "display_name": "Python 3",
   "language": "python",
   "name": "python3"
  },
  "language_info": {
   "codemirror_mode": {
    "name": "ipython",
    "version": 3
   },
   "file_extension": ".py",
   "mimetype": "text/x-python",
   "name": "python",
   "nbconvert_exporter": "python",
   "pygments_lexer": "ipython3",
   "version": "3.11.2"
  }
 },
 "nbformat": 4,
 "nbformat_minor": 2
}
